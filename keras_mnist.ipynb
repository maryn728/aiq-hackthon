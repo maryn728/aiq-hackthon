{
  "nbformat": 4,
  "nbformat_minor": 0,
  "metadata": {
    "colab": {
      "name": "keras_mnist.ipynb",
      "version": "0.3.2",
      "provenance": [],
      "include_colab_link": true
    },
    "kernelspec": {
      "name": "python3",
      "display_name": "Python 3"
    },
    "accelerator": "GPU"
  },
  "cells": [
    {
      "cell_type": "markdown",
      "metadata": {
        "id": "view-in-github",
        "colab_type": "text"
      },
      "source": [
        "[View in Colaboratory](https://colab.research.google.com/github/maryn728/aiq-hackthon/blob/master/keras_mnist.ipynb)"
      ]
    },
    {
      "metadata": {
        "id": "NerKaPqo5-qU",
        "colab_type": "text"
      },
      "cell_type": "markdown",
      "source": [
        "# Keras\n",
        "\n",
        "Keras is a **deep-learning framework** for Python that provides a** convenient way to define and**\n",
        "**train** almost any kind of deep-learning model.\n",
        "\n",
        "*   Same code can run seamlessly on **CPU** or **GPU**.\n",
        "*  ** User-friendly API** for quickly prototyping deep-learning models\n",
        "*   Built-in support for **convolutional networks** (for computer vision), **recurrent**\n",
        "**networks** (for sequence processing), and why not both.\n",
        "*   It supports** arbitrary network architectures**: multi-input or multi-output models,\n",
        "layer sharing, model sharing, and so on\n"
      ]
    },
    {
      "metadata": {
        "id": "P0uFZzMg8HVe",
        "colab_type": "text"
      },
      "cell_type": "markdown",
      "source": [
        "**Keras** is a model-level library, providing **high-level building blocks ** for developing\n",
        "deep-learning models. It** doesn’t handle low-level operations** such as tensor manipulation\n",
        "and differentiation.\n",
        "\n",
        "The three existing backend implementations are the **TensorFlow** backend, the **Theano** backend, and the **Microsoft Cognitive Toolkit (CNTK)** backend.\n",
        "\n",
        "---\n",
        "\n",
        "\n",
        "\n",
        "![deep-learning software and hardware stack](https://xjgzgg.db.files.1drv.com/y4mczN9je-_l_9iyvOnD1luluRRwgriREPnCcJSbbv61ASBztV43qh1JcOg2uXBeGQkO30DHKWTTVUravQM18bKlR38Iq-pgvVEtCtnTXNFWCY0Az4HiT9pq0Svw7eKRAH4MnuZKSYpglAcdP_62bZOsl3Wqtic0SPjbWMUYo0Bc5J-JLvESBvjtg12w9kNgJWbtI-wv5JxTwskyCGsv3cYdw?width=360&height=186&cropmode=none)\n",
        "\n",
        "The deep-learning software and hardware stack. Source: François Chollet, Deep Learning with Python"
      ]
    },
    {
      "metadata": {
        "id": "2Trj2RwhiL1W",
        "colab_type": "text"
      },
      "cell_type": "markdown",
      "source": [
        "## What is MNIST?\n",
        "\n",
        "MNIST dataset contains images of handwritten digits. It has **60,000 grayscale images** under the **training** set and **10,000 grayscale images** under the **test** set"
      ]
    },
    {
      "metadata": {
        "id": "fKm-wXkitN7k",
        "colab_type": "code",
        "colab": {
          "base_uri": "https://localhost:8080/",
          "height": 398
        },
        "outputId": "a3edbf51-8810-4e00-ee65-e4bc28b2eb04"
      },
      "cell_type": "code",
      "source": [
        "from keras.datasets import mnist\n",
        "(train_images, train_labels), (test_images, test_labels) = mnist.load_data()\n",
        "\n",
        "digit = train_images[4]\n",
        "\n",
        "import matplotlib.pyplot as plt\n",
        "plt.imshow(digit, cmap=plt.cm.binary)\n",
        "plt.show()"
      ],
      "execution_count": 2,
      "outputs": [
        {
          "output_type": "stream",
          "text": [
            "Using TensorFlow backend.\n"
          ],
          "name": "stderr"
        },
        {
          "output_type": "stream",
          "text": [
            "Downloading data from https://s3.amazonaws.com/img-datasets/mnist.npz\n",
            "11493376/11490434 [==============================] - 1s 0us/step\n"
          ],
          "name": "stdout"
        },
        {
          "output_type": "display_data",
          "data": {
            "image/png": "[encoded data removed]",
            "text/plain": [
              "<matplotlib.figure.Figure at 0x7fccbf60b208>"
            ]
          },
          "metadata": {
            "tags": []
          }
        }
      ]
    },
    {
      "metadata": {
        "id": "SnvHPv7gIHpK",
        "colab_type": "text"
      },
      "cell_type": "markdown",
      "source": [
        "The **typical Keras workflow** has the following steps:\n",
        "\n",
        "1.   Define your **training data**: input tensors and target tensors.\n",
        "2.   Define a **network of layers** (or model) that maps your inputs to your targets.\n",
        "3.   Configure the learning process by **choosing a loss function, an optimizer, and**\n",
        "**some metrics to monitor**.\n",
        "4.   Iterate on your training data by **calling the fit()** method of your model."
      ]
    },
    {
      "metadata": {
        "id": "1wat7SP8tVEO",
        "colab_type": "code",
        "colab": {}
      },
      "cell_type": "code",
      "source": [
        "from keras import models\n",
        "from keras import layers\n",
        "\n",
        "model = models.Sequential()\n",
        "\n",
        "model.add(layers.Dense(512, activation='relu', input_shape=(28 * 28,)))\n",
        "model.add(layers.Dense(10, activation='softmax'))"
      ],
      "execution_count": 0,
      "outputs": []
    },
    {
      "metadata": {
        "id": "wHgV_yG9tyb5",
        "colab_type": "code",
        "colab": {
          "base_uri": "https://localhost:8080/",
          "height": 218
        },
        "outputId": "e039b2af-9ff7-4ca5-a6ec-6255be39b7e1"
      },
      "cell_type": "code",
      "source": [
        "model.compile(loss='categorical_crossentropy',\n",
        "                optimizer='rmsprop',\n",
        "                metrics=['accuracy'])\n",
        "\n",
        "print(model.summary())"
      ],
      "execution_count": 4,
      "outputs": [
        {
          "output_type": "stream",
          "text": [
            "_________________________________________________________________\n",
            "Layer (type)                 Output Shape              Param #   \n",
            "=================================================================\n",
            "dense_1 (Dense)              (None, 512)               401920    \n",
            "_________________________________________________________________\n",
            "dense_2 (Dense)              (None, 10)                5130      \n",
            "=================================================================\n",
            "Total params: 407,050\n",
            "Trainable params: 407,050\n",
            "Non-trainable params: 0\n",
            "_________________________________________________________________\n",
            "None\n"
          ],
          "name": "stdout"
        }
      ]
    },
    {
      "metadata": {
        "id": "KfmiBTNvKFzs",
        "colab_type": "text"
      },
      "cell_type": "markdown",
      "source": [
        "The training images for instance were stored in an array of shape` (60000, 28, 28)` of type uint8 with values in the `[0, 255]` interval. We transform it into a float32 array of shape `(60000, 28 * 28)` with values between 0 and 1."
      ]
    },
    {
      "metadata": {
        "id": "JF6UsROQt1Jf",
        "colab_type": "code",
        "colab": {}
      },
      "cell_type": "code",
      "source": [
        "train_images = train_images.reshape((60000, 28 * 28))\n",
        "train_images = train_images.astype('float32') / 255\n",
        "\n",
        "test_images = test_images.reshape((10000, 28 * 28))\n",
        "test_images = test_images.astype('float32') / 255"
      ],
      "execution_count": 0,
      "outputs": []
    },
    {
      "metadata": {
        "id": "JUQvffHDuAxN",
        "colab_type": "code",
        "colab": {
          "base_uri": "https://localhost:8080/",
          "height": 134
        },
        "outputId": "0b9c0b72-3a2c-492c-9d6c-85de6fa93717"
      },
      "cell_type": "code",
      "source": [
        "from keras.utils import to_categorical\n",
        "\n",
        "train_labels = to_categorical(train_labels)\n",
        "test_labels = to_categorical(test_labels)\n",
        "\n",
        "print(train_labels)"
      ],
      "execution_count": 6,
      "outputs": [
        {
          "output_type": "stream",
          "text": [
            "[[0. 0. 0. ... 0. 0. 0.]\n",
            " [1. 0. 0. ... 0. 0. 0.]\n",
            " [0. 0. 0. ... 0. 0. 0.]\n",
            " ...\n",
            " [0. 0. 0. ... 0. 0. 0.]\n",
            " [0. 0. 0. ... 0. 0. 0.]\n",
            " [0. 0. 0. ... 0. 1. 0.]]\n"
          ],
          "name": "stdout"
        }
      ]
    },
    {
      "metadata": {
        "id": "1Md01T-muL37",
        "colab_type": "code",
        "colab": {
          "base_uri": "https://localhost:8080/",
          "height": 202
        },
        "outputId": "a2bfc5eb-15db-4d51-e2fb-8c53fa8c9825"
      },
      "cell_type": "code",
      "source": [
        "model.fit(train_images, train_labels, epochs=5, batch_size=128)"
      ],
      "execution_count": 7,
      "outputs": [
        {
          "output_type": "stream",
          "text": [
            "Epoch 1/5\n",
            "60000/60000 [==============================] - 4s 66us/step - loss: 0.2724 - acc: 0.9220\n",
            "Epoch 2/5\n",
            "60000/60000 [==============================] - 3s 49us/step - loss: 0.1082 - acc: 0.9684\n",
            "Epoch 3/5\n",
            "60000/60000 [==============================] - 3s 48us/step - loss: 0.0718 - acc: 0.9792\n",
            "Epoch 4/5\n",
            "60000/60000 [==============================] - 3s 48us/step - loss: 0.0496 - acc: 0.9858\n",
            "Epoch 5/5\n",
            "60000/60000 [==============================] - 3s 49us/step - loss: 0.0380 - acc: 0.9889\n"
          ],
          "name": "stdout"
        },
        {
          "output_type": "execute_result",
          "data": {
            "text/plain": [
              "<keras.callbacks.History at 0x7fcc7bd97240>"
            ]
          },
          "metadata": {
            "tags": []
          },
          "execution_count": 7
        }
      ]
    },
    {
      "metadata": {
        "id": "et9qAV4iuZjb",
        "colab_type": "code",
        "colab": {
          "base_uri": "https://localhost:8080/",
          "height": 50
        },
        "outputId": "83e87151-0026-4c53-e7cd-b5769e184b5c"
      },
      "cell_type": "code",
      "source": [
        "test_loss, test_acc = model.evaluate(test_images, test_labels)\n",
        "print('test_acc:', test_acc)"
      ],
      "execution_count": 8,
      "outputs": [
        {
          "output_type": "stream",
          "text": [
            "10000/10000 [==============================] - 1s 68us/step\n",
            "test_acc: 0.9789\n"
          ],
          "name": "stdout"
        }
      ]
    },
    {
      "metadata": {
        "id": "AM5rHDQzMvEP",
        "colab_type": "code",
        "colab": {
          "base_uri": "https://localhost:8080/",
          "height": 67
        },
        "outputId": "599e9ef5-71c3-46da-9e8a-e4e2ce51bae5"
      },
      "cell_type": "code",
      "source": [
        "sample_image = test_images[0].reshape(1,28 * 28)\n",
        "y_prob = model.predict(sample_image)[0]\n",
        "y_pred = y_prob.argmax()\n",
        "y_actual = test_labels[0].argmax()\n",
        "\n",
        "print(\"probabilities: \", y_prob)\n",
        "print(\"predicted = %d, actual = %d\" % (y_pred, y_actual))"
      ],
      "execution_count": 9,
      "outputs": [
        {
          "output_type": "stream",
          "text": [
            "probabilities:  [2.4786220e-07 1.8203666e-08 3.0202020e-04 8.8411802e-04 2.2671200e-09\n",
            " 3.7955857e-07 1.1797386e-09 9.9876010e-01 3.3412737e-06 4.9735740e-05]\n",
            "predicted = 7, actual = 7\n"
          ],
          "name": "stdout"
        }
      ]
    },
    {
      "metadata": {
        "id": "ssRV91mdLVvG",
        "colab_type": "text"
      },
      "cell_type": "markdown",
      "source": [
        "Check out the official [Keras Docs](https://keras.io/) for more details\n",
        "\n",
        "For even more examples see [here](https://github.com/fchollet/deep-learning-with-python-notebooks) for more Keras examples - Deep Learning with Python code samples, as Jupyter notebooks\n",
        "\n",
        "Some cool cheatsheets:\n",
        "\n",
        "\n",
        "*   [Keras](http://datacamp-community.s3.amazonaws.com/94fc681d-5422-40cb-a129-2218e9522f17)\n",
        "*   [Numpy](http://datacamp-community.s3.amazonaws.com/e9f83f72-a81b-42c7-af44-4e35b48b20b7)\n",
        "*   [Scikit-Learn](http://datacamp-community.s3.amazonaws.com/5433fa18-9f43-44cc-b228-74672efcd116)\n",
        "*   [Matplotlib](http://datacamp-community.s3.amazonaws.com/28b8210c-60cc-4f13-b0b4-5b4f2ad4790b)\n",
        "*   [SciPy](http://datacamp-community.s3.amazonaws.com/5710caa7-94d4-4248-be94-d23dea9e668f)\n",
        "\n",
        "\n",
        "\n"
      ]
    }
  ]
}